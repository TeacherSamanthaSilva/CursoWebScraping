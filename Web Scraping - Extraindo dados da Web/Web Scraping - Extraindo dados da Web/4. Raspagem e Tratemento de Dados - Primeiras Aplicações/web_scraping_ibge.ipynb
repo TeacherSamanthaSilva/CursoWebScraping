{
 "cells": [
  {
   "cell_type": "code",
   "execution_count": 1,
   "id": "c17abe4d-9226-4d40-b1bf-5ca3a4861deb",
   "metadata": {},
   "outputs": [],
   "source": [
    "import requests\n",
    "from bs4 import BeautifulSoup\n",
    "import pandas as pd"
   ]
  },
  {
   "cell_type": "code",
   "execution_count": 2,
   "id": "4a79f64d-10e6-44af-8334-3ff943a15ab1",
   "metadata": {},
   "outputs": [],
   "source": [
    "def scraping_uf(uf: str) -> dict:\n",
    "    uf_url = f'https://www.ibge.gov.br/cidades-e-estados/{uf}.html'\n",
    "    page = requests.get(uf_url)\n",
    "    \n",
    "    soup = BeautifulSoup(page.content, 'html.parser')\n",
    "    indicadores = soup.select('.indicador')\n",
    "    \n",
    "    uf_dict = {\n",
    "        dado.select('.ind-label')[0].text: dado.select('.ind-value')[0].text\n",
    "        for dado in indicadores\n",
    "    }\n",
    "    \n",
    "    return uf_dict   "
   ]
  },
  {
   "cell_type": "code",
   "execution_count": 5,
   "id": "a10c8baf-3276-4114-ba16-61bdd551970d",
   "metadata": {},
   "outputs": [],
   "source": [
    "estado = scraping_uf('sc')"
   ]
  },
  {
   "cell_type": "code",
   "execution_count": 6,
   "id": "4e99c636-1299-448c-bfbd-9e232a544dcb",
   "metadata": {},
   "outputs": [
    {
     "data": {
      "text/plain": [
       "{'Governador': 'JORGINHO DOS SANTOS MELLO\\xa0\\xa0\\xa0[2023]',\n",
       " 'Capital': 'Florianópolis\\xa0\\xa0\\xa0[2010]',\n",
       " 'Gentílico': 'catarinense ou barriga-verde',\n",
       " 'Área Territorial': '95.730,690 km²\\xa0\\xa0\\xa0[2024]',\n",
       " 'População no último censo': '7.610.361 pessoas\\xa0\\xa0\\xa0[2022]',\n",
       " 'Densidade demográfica': '79,50 hab/km²\\xa0\\xa0\\xa0[2022]',\n",
       " 'População estimada': '8.187.029 pessoas\\xa0\\xa0\\xa0[2025]',\n",
       " 'Matrículas no ensino fundamental': '960.258 matrículas\\xa0\\xa0\\xa0[2024]',\n",
       " 'IDH Índice de desenvolvimento humano': '0,792\\xa0\\xa0\\xa0[2021]',\n",
       " 'Total de receitas brutas realizadas': '69.667.792.148,76 R$\\xa0\\xa0\\xa0[2024]',\n",
       " 'Total de despesas brutas empenhadas': '49.712.227.496,86 R$\\xa0\\xa0\\xa0[2024]',\n",
       " 'Rendimento mensal domiciliar per capita': '2.601 R$\\xa0\\xa0\\xa0[2024]',\n",
       " 'Total de veículos': '6.442.054 veículos\\xa0\\xa0\\xa0[2024]'}"
      ]
     },
     "execution_count": 6,
     "metadata": {},
     "output_type": "execute_result"
    }
   ],
   "source": [
    "estado"
   ]
  },
  {
   "cell_type": "code",
   "execution_count": 7,
   "id": "df0f3aab-6d11-4732-a5fa-2af440b9cd39",
   "metadata": {},
   "outputs": [
    {
     "data": {
      "text/plain": [
       "{'Governador': 'JORGINHO DOS SANTOS MELLO',\n",
       " 'Capital': 'Florianópolis',\n",
       " 'Gentílico': 'catarinense ou barriga-verde',\n",
       " 'Área Territorial': '95.730,690 km²',\n",
       " 'População no último censo': '7.610.361 pessoas',\n",
       " 'Densidade demográfica': '79,50 hab/km²',\n",
       " 'População estimada': '8.187.029 pessoas',\n",
       " 'Matrículas no ensino fundamental': '960.258 matrículas',\n",
       " 'IDH Índice de desenvolvimento humano': '0,792',\n",
       " 'Total de receitas brutas realizadas': '69.667.792.148,76 R$',\n",
       " 'Total de despesas brutas empenhadas': '49.712.227.496,86 R$',\n",
       " 'Rendimento mensal domiciliar per capita': '2.601 R$',\n",
       " 'Total de veículos': '6.442.054 veículos'}"
      ]
     },
     "execution_count": 7,
     "metadata": {},
     "output_type": "execute_result"
    }
   ],
   "source": [
    "for indicador in estado:\n",
    "    if ']' in estado[indicador]:\n",
    "        estado[indicador] = estado[indicador].split(']')[0][:-8]\n",
    "    else:\n",
    "        estado[indicador] = estado[indicador]\n",
    "estado"
   ]
  },
  {
   "cell_type": "code",
   "execution_count": 8,
   "id": "70249103-0187-445b-900d-90f3bbb866d8",
   "metadata": {},
   "outputs": [],
   "source": [
    "df = pd.DataFrame(estado.values(), index=estado.keys())"
   ]
  },
  {
   "cell_type": "code",
   "execution_count": 9,
   "id": "d78b730d-06af-4ba5-a51d-78c7e1dc04a0",
   "metadata": {},
   "outputs": [
    {
     "data": {
      "text/html": [
       "<div>\n",
       "<style scoped>\n",
       "    .dataframe tbody tr th:only-of-type {\n",
       "        vertical-align: middle;\n",
       "    }\n",
       "\n",
       "    .dataframe tbody tr th {\n",
       "        vertical-align: top;\n",
       "    }\n",
       "\n",
       "    .dataframe thead th {\n",
       "        text-align: right;\n",
       "    }\n",
       "</style>\n",
       "<table border=\"1\" class=\"dataframe\">\n",
       "  <thead>\n",
       "    <tr style=\"text-align: right;\">\n",
       "      <th></th>\n",
       "      <th>0</th>\n",
       "    </tr>\n",
       "  </thead>\n",
       "  <tbody>\n",
       "    <tr>\n",
       "      <th>Governador</th>\n",
       "      <td>JORGINHO DOS SANTOS MELLO</td>\n",
       "    </tr>\n",
       "    <tr>\n",
       "      <th>Capital</th>\n",
       "      <td>Florianópolis</td>\n",
       "    </tr>\n",
       "    <tr>\n",
       "      <th>Gentílico</th>\n",
       "      <td>catarinense ou barriga-verde</td>\n",
       "    </tr>\n",
       "    <tr>\n",
       "      <th>Área Territorial</th>\n",
       "      <td>95.730,690 km²</td>\n",
       "    </tr>\n",
       "    <tr>\n",
       "      <th>População no último censo</th>\n",
       "      <td>7.610.361 pessoas</td>\n",
       "    </tr>\n",
       "    <tr>\n",
       "      <th>Densidade demográfica</th>\n",
       "      <td>79,50 hab/km²</td>\n",
       "    </tr>\n",
       "    <tr>\n",
       "      <th>População estimada</th>\n",
       "      <td>8.187.029 pessoas</td>\n",
       "    </tr>\n",
       "    <tr>\n",
       "      <th>Matrículas no ensino fundamental</th>\n",
       "      <td>960.258 matrículas</td>\n",
       "    </tr>\n",
       "    <tr>\n",
       "      <th>IDH Índice de desenvolvimento humano</th>\n",
       "      <td>0,792</td>\n",
       "    </tr>\n",
       "    <tr>\n",
       "      <th>Total de receitas brutas realizadas</th>\n",
       "      <td>69.667.792.148,76 R$</td>\n",
       "    </tr>\n",
       "    <tr>\n",
       "      <th>Total de despesas brutas empenhadas</th>\n",
       "      <td>49.712.227.496,86 R$</td>\n",
       "    </tr>\n",
       "    <tr>\n",
       "      <th>Rendimento mensal domiciliar per capita</th>\n",
       "      <td>2.601 R$</td>\n",
       "    </tr>\n",
       "    <tr>\n",
       "      <th>Total de veículos</th>\n",
       "      <td>6.442.054 veículos</td>\n",
       "    </tr>\n",
       "  </tbody>\n",
       "</table>\n",
       "</div>"
      ],
      "text/plain": [
       "                                                                    0\n",
       "Governador                                  JORGINHO DOS SANTOS MELLO\n",
       "Capital                                                 Florianópolis\n",
       "Gentílico                                catarinense ou barriga-verde\n",
       "Área Territorial                                       95.730,690 km²\n",
       "População no último censo                           7.610.361 pessoas\n",
       "Densidade demográfica                                   79,50 hab/km²\n",
       "População estimada                                  8.187.029 pessoas\n",
       "Matrículas no ensino fundamental                  960.258 matrículas\n",
       "IDH Índice de desenvolvimento humano                           0,792\n",
       "Total de receitas brutas realizadas              69.667.792.148,76 R$\n",
       "Total de despesas brutas empenhadas              49.712.227.496,86 R$\n",
       "Rendimento mensal domiciliar per capita                      2.601 R$\n",
       "Total de veículos                                  6.442.054 veículos"
      ]
     },
     "execution_count": 9,
     "metadata": {},
     "output_type": "execute_result"
    }
   ],
   "source": [
    "df"
   ]
  },
  {
   "cell_type": "code",
   "execution_count": null,
   "id": "0b89107f-a8d0-4cef-8efb-3a4ba01c07d2",
   "metadata": {},
   "outputs": [],
   "source": []
  }
 ],
 "metadata": {
  "kernelspec": {
   "display_name": "Python 3",
   "language": "python",
   "name": "python3"
  },
  "language_info": {
   "codemirror_mode": {
    "name": "ipython",
    "version": 3
   },
   "file_extension": ".py",
   "mimetype": "text/x-python",
   "name": "python",
   "nbconvert_exporter": "python",
   "pygments_lexer": "ipython3",
   "version": "3.11.0"
  }
 },
 "nbformat": 4,
 "nbformat_minor": 5
}
