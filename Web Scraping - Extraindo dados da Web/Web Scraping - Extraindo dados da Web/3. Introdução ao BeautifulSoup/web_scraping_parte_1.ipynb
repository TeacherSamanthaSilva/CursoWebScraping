{
 "cells": [
  {
   "cell_type": "code",
   "execution_count": 1,
   "id": "221e1b75-cd8e-4260-8451-8248fca29a80",
   "metadata": {},
   "outputs": [],
   "source": [
    "import requests\n",
    "from bs4 import BeautifulSoup"
   ]
  },
  {
   "cell_type": "code",
   "execution_count": 2,
   "id": "4839a310-0fc9-415f-a1f6-b7bf6177aa18",
   "metadata": {},
   "outputs": [],
   "source": [
    "globo_url = 'https://www.globo.com/'\n",
    "page = requests.get(globo_url)"
   ]
  },
  {
   "cell_type": "code",
   "execution_count": 3,
   "id": "328ce705-ed6a-4fac-bd26-9480c0bf706e",
   "metadata": {},
   "outputs": [
    {
     "data": {
      "text/plain": [
       "<Response [200]>"
      ]
     },
     "execution_count": 3,
     "metadata": {},
     "output_type": "execute_result"
    }
   ],
   "source": [
    "page"
   ]
  },
  {
   "cell_type": "code",
   "execution_count": 4,
   "id": "26ecf83b-ae52-4b09-bb66-8a02cf1ac3b9",
   "metadata": {},
   "outputs": [],
   "source": [
    "resposta = page.text"
   ]
  },
  {
   "cell_type": "code",
   "execution_count": 5,
   "id": "127af2b9-186c-44e2-ab3e-8e733b2be187",
   "metadata": {},
   "outputs": [],
   "source": [
    "soup = BeautifulSoup(resposta, 'html.parser')"
   ]
  },
  {
   "cell_type": "code",
   "execution_count": 6,
   "id": "2efc2203-608b-4fee-ba17-5283f63a9204",
   "metadata": {},
   "outputs": [],
   "source": [
    "noticias = soup.find_all('h2', {'class': 'post__title'})"
   ]
  },
  {
   "cell_type": "code",
   "execution_count": 7,
   "id": "db812537-0e8b-4dee-a37c-5a8aa33b93e9",
   "metadata": {},
   "outputs": [
    {
     "data": {
      "text/plain": [
       "[<h2 class=\"post__title\">Lewandowski sobre PEC: 'Facções podem se infiltrar em Parlamentos' </h2>,\n",
       " <h2 class=\"post__title\">Efeito cascata: assembleias pelo país discutem replicar PEC da Blindagem</h2>,\n",
       " <h2 class=\"post__title\">Julia Duailibi: STF concorda com 'pacto' para reduzir penas, diz Temer</h2>,\n",
       " <h2 class=\"post__title\">Maria Cristina Fernandes: Dino desafia blindagem com mais investigação</h2>,\n",
       " <h2 class=\"post__title\">Tentativa de assalto com tiros apavora Morumbi, em SP</h2>,\n",
       " <h2 class=\"post__title\">Mãe reconhece bolsa com suposto serial killer</h2>,\n",
       " <h2 class=\"post__title\">'Não tem anistia, vou falar de dosimetria', afirma relator</h2>,\n",
       " <h2 class=\"post__title\">🎧'O Assunto': a Câmara de costas para o povo</h2>,\n",
       " <h2 class=\"post__title\">Blog: após desabafo, clima no PL contra Alcolumbre piora</h2>,\n",
       " <h2 class=\"post__title\">Isenção de IR: tensão no Congresso preocupa</h2>,\n",
       " <h2 class=\"post__title\">Os recados da pesquisa Quaest para Lula e oposição </h2>,\n",
       " <h2 class=\"post__title\">Veja quando voto secreto é usado no Congresso</h2>,\n",
       " <h2 class=\"post__title\">Por que tratamento para pressão alta será mais rigoroso?</h2>,\n",
       " <h2 class=\"post__title\">STF restringe cobertura dos planos fora de lista</h2>,\n",
       " <h2 class=\"post__title\">Mulher se aposenta aos 101 anos após tentar por 4 décadas</h2>,\n",
       " <h2 class=\"post__title\">A ‘crise dos 20 anos’ fica cada vez mais comum</h2>,\n",
       " <h2 class=\"post__title\">Piu arranca e leva prata colado no líder nos 400m com barreiras no Mundial</h2>,\n",
       " <h2 class=\"post__title\">Alison foi bicampeão mundial por minutos</h2>,\n",
       " <h2 class=\"post__title\">Fla faz da bronca com juiz motivaçãopara carimbar vaga na Argentina</h2>,\n",
       " <h2 class=\"post__title\">Revolta geral com juiz é justa, mas gol azedou 2-1 do Fla </h2>,\n",
       " <h2 class=\"post__title\">São Paulo até joga bem, mas erra mais do que podia na altitude</h2>,\n",
       " <h2 class=\"post__title\">Odete arma novo plano para matar Marco Aurélio</h2>,\n",
       " <h2 class=\"post__title\">'Vale': vídeo de Fátima comove</h2>,\n",
       " <h2 class=\"post__title\">Freitas rouba Marco Aurélio</h2>,\n",
       " <h2 class=\"post__title\">Wanessa Camargo e Allan Souza Lima curtem quiosque agarradinhos </h2>,\n",
       " <h2 class=\"post__title\">De Débora Nascimento a Leticia Birkheuer: as ex famosas de Allan</h2>,\n",
       " <h2 class=\"post__title\">Resumo vai de eliminação 'no detalhe' a Ana em defesa de Sandy &amp; Junior</h2>,\n",
       " <h2 class=\"post__title\">Fla vence Illawarra Hawks com cesta no último lance e segue vivo na busca pelo tri mundial </h2>,\n",
       " <h2 class=\"post__title\">Próximo dos 80 anos, Sylvester Stallone mudou seus treinos: 'Fazer 50 flexões é difícil'</h2>,\n",
       " <h2 class=\"post__title\">Hariany é flagrada aos beijos com gringo meses após término com filho de Leonardo</h2>,\n",
       " <h2 class=\"post__title\">Anunciada há quase um ano, mansão de Marcio Garcia ainda não achou comprador </h2>,\n",
       " <h2 class=\"post__title\">Conheça o alemão que quer imitar 'Tarzan' e vive há cinco anos na selva</h2>,\n",
       " <h2 class=\"post__title\">Buraco misterioso é encontrado em parque estadual durante combate a incêndio em MT</h2>,\n",
       " <h2 class=\"post__title\">De dodôs a mamutes: as espécies animais extintas que a ciência busca reviver</h2>,\n",
       " <h2 class=\"post__title\">Candinho salva Samir e se vinga de criminosos; saiba como será! </h2>,\n",
       " <h2 class=\"post__title\">Clima esquenta entre Bárbara e Ryan, que não resistem e transam pela 1ª vez</h2>,\n",
       " <h2 class=\"post__title\">Detox de homem? Conheça movimento que prega o celibato feminino </h2>,\n",
       " <h2 class=\"post__title\">Anitta comenta 'pressão' por ser referência: 'Sempre inovando'</h2>,\n",
       " <h2 class=\"post__title\">Claude Troisgros entrega o segredo para fazer o ovo poché perfeito</h2>,\n",
       " <h2 class=\"post__title\">Do bolo ao pudim: confira 8 sobremesas deliciosas com milho</h2>,\n",
       " <h2 class=\"post__title\">Como fazer merengue italiano, suíço e francês; conheça e entenda diferenças</h2>,\n",
       " <h2 class=\"post__title\">Restaurantes românticos no Rio: 3 opções para um date inesquecível</h2>,\n",
       " <h2 class=\"post__title\">'O Assunto' analisa os projetos aprovados em benefício próprio na Câmara</h2>,\n",
       " <h2 class=\"post__title\">Inteligência artificial como terapeuta: quais os riscos dessa prática?</h2>,\n",
       " <h2 class=\"post__title\">Encontre os melhores podcasts da Globo em um só lugar; aperte o play e divirta-se</h2>]"
      ]
     },
     "execution_count": 7,
     "metadata": {},
     "output_type": "execute_result"
    }
   ],
   "source": [
    "noticias"
   ]
  },
  {
   "cell_type": "code",
   "execution_count": 8,
   "id": "9455eda3-c436-4858-ab35-b0cf82270763",
   "metadata": {},
   "outputs": [
    {
     "name": "stdout",
     "output_type": "stream",
     "text": [
      "Lewandowski sobre PEC: 'Facções podem se infiltrar em Parlamentos' \n",
      "Efeito cascata: assembleias pelo país discutem replicar PEC da Blindagem\n",
      "Julia Duailibi: STF concorda com 'pacto' para reduzir penas, diz Temer\n",
      "Maria Cristina Fernandes: Dino desafia blindagem com mais investigação\n",
      "Tentativa de assalto com tiros apavora Morumbi, em SP\n",
      "Mãe reconhece bolsa com suposto serial killer\n",
      "'Não tem anistia, vou falar de dosimetria', afirma relator\n",
      "🎧'O Assunto': a Câmara de costas para o povo\n",
      "Blog: após desabafo, clima no PL contra Alcolumbre piora\n",
      "Isenção de IR: tensão no Congresso preocupa\n",
      "Os recados da pesquisa Quaest para Lula e oposição \n",
      "Veja quando voto secreto é usado no Congresso\n",
      "Por que tratamento para pressão alta será mais rigoroso?\n",
      "STF restringe cobertura dos planos fora de lista\n",
      "Mulher se aposenta aos 101 anos após tentar por 4 décadas\n",
      "A ‘crise dos 20 anos’ fica cada vez mais comum\n",
      "Piu arranca e leva prata colado no líder nos 400m com barreiras no Mundial\n",
      "Alison foi bicampeão mundial por minutos\n",
      "Fla faz da bronca com juiz motivaçãopara carimbar vaga na Argentina\n",
      "Revolta geral com juiz é justa, mas gol azedou 2-1 do Fla \n",
      "São Paulo até joga bem, mas erra mais do que podia na altitude\n",
      "Odete arma novo plano para matar Marco Aurélio\n",
      "'Vale': vídeo de Fátima comove\n",
      "Freitas rouba Marco Aurélio\n",
      "Wanessa Camargo e Allan Souza Lima curtem quiosque agarradinhos \n",
      "De Débora Nascimento a Leticia Birkheuer: as ex famosas de Allan\n",
      "Resumo vai de eliminação 'no detalhe' a Ana em defesa de Sandy & Junior\n",
      "Fla vence Illawarra Hawks com cesta no último lance e segue vivo na busca pelo tri mundial \n",
      "Próximo dos 80 anos, Sylvester Stallone mudou seus treinos: 'Fazer 50 flexões é difícil'\n",
      "Hariany é flagrada aos beijos com gringo meses após término com filho de Leonardo\n",
      "Anunciada há quase um ano, mansão de Marcio Garcia ainda não achou comprador \n",
      "Conheça o alemão que quer imitar 'Tarzan' e vive há cinco anos na selva\n",
      "Buraco misterioso é encontrado em parque estadual durante combate a incêndio em MT\n",
      "De dodôs a mamutes: as espécies animais extintas que a ciência busca reviver\n",
      "Candinho salva Samir e se vinga de criminosos; saiba como será! \n",
      "Clima esquenta entre Bárbara e Ryan, que não resistem e transam pela 1ª vez\n",
      "Detox de homem? Conheça movimento que prega o celibato feminino \n",
      "Anitta comenta 'pressão' por ser referência: 'Sempre inovando'\n",
      "Claude Troisgros entrega o segredo para fazer o ovo poché perfeito\n",
      "Do bolo ao pudim: confira 8 sobremesas deliciosas com milho\n",
      "Como fazer merengue italiano, suíço e francês; conheça e entenda diferenças\n",
      "Restaurantes românticos no Rio: 3 opções para um date inesquecível\n",
      "'O Assunto' analisa os projetos aprovados em benefício próprio na Câmara\n",
      "Inteligência artificial como terapeuta: quais os riscos dessa prática?\n",
      "Encontre os melhores podcasts da Globo em um só lugar; aperte o play e divirta-se\n"
     ]
    }
   ],
   "source": [
    "for i in range (len(noticias)):\n",
    "    print(noticias[i].text)"
   ]
  },
  {
   "cell_type": "code",
   "execution_count": null,
   "id": "c0d14d07-cf16-4007-a377-c1c503ed9796",
   "metadata": {},
   "outputs": [],
   "source": []
  }
 ],
 "metadata": {
  "kernelspec": {
   "display_name": "Python 3",
   "language": "python",
   "name": "python3"
  },
  "language_info": {
   "codemirror_mode": {
    "name": "ipython",
    "version": 3
   },
   "file_extension": ".py",
   "mimetype": "text/x-python",
   "name": "python",
   "nbconvert_exporter": "python",
   "pygments_lexer": "ipython3",
   "version": "3.11.0"
  }
 },
 "nbformat": 4,
 "nbformat_minor": 5
}
